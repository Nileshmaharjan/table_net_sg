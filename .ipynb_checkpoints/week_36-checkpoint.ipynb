{
 "cells": [
  {
   "cell_type": "code",
   "execution_count": 3,
   "id": "79f622a9",
   "metadata": {},
   "outputs": [
    {
     "name": "stdout",
     "output_type": "stream",
     "text": [
      "None\n"
     ]
    },
    {
     "ename": "TypeError",
     "evalue": "'NoneType' object is not subscriptable",
     "output_type": "error",
     "traceback": [
      "\u001b[1;31m---------------------------------------------------------------------------\u001b[0m",
      "\u001b[1;31mTypeError\u001b[0m                                 Traceback (most recent call last)",
      "Input \u001b[1;32mIn [3]\u001b[0m, in \u001b[0;36m<cell line: 9>\u001b[1;34m()\u001b[0m\n\u001b[0;32m      6\u001b[0m \u001b[38;5;28mprint\u001b[39m(img)\n\u001b[0;32m      8\u001b[0m \u001b[38;5;66;03m# extract bgr image\u001b[39;00m\n\u001b[1;32m----> 9\u001b[0m bgr \u001b[38;5;241m=\u001b[39m \u001b[43mimg\u001b[49m\u001b[43m[\u001b[49m\u001b[43m:\u001b[49m\u001b[43m,\u001b[49m\u001b[43m:\u001b[49m\u001b[43m,\u001b[49m\u001b[38;5;241;43m0\u001b[39;49m\u001b[43m:\u001b[49m\u001b[38;5;241;43m3\u001b[39;49m\u001b[43m]\u001b[49m\n\u001b[0;32m     11\u001b[0m \u001b[38;5;66;03m# extract alpha channel\u001b[39;00m\n\u001b[0;32m     12\u001b[0m alpha \u001b[38;5;241m=\u001b[39m img[:,:,\u001b[38;5;241m3\u001b[39m]\n",
      "\u001b[1;31mTypeError\u001b[0m: 'NoneType' object is not subscriptable"
     ]
    }
   ],
   "source": [
    "import cv2\n",
    "import numpy as np\n",
    "\n",
    "# read image\n",
    "img = cv2.imread('predict.png', cv2.IMREAD_UNCHANGED)\n",
    "print(img)\n",
    "\n",
    "# extract bgr image\n",
    "bgr = img[:,:,0:3]\n",
    "\n",
    "# extract alpha channel\n",
    "alpha = img[:,:,3]\n",
    "\n",
    "# get largest contours\n",
    "contours = cv2.findContours(alpha, cv2.RETR_EXTERNAL, cv2.CHAIN_APPROX_SIMPLE)\n",
    "contours = contours[0] if len(contours) == 2 else contours[1]\n",
    "big_contour = max(contours, key=cv2.contourArea)\n",
    "\n",
    "\n",
    "# smooth contour\n",
    "peri = cv2.arcLength(big_contour, True)\n",
    "big_contour = cv2.approxPolyDP(big_contour, 0.001 * peri, True)\n",
    "\n",
    "# draw white filled contour on black background\n",
    "contour_img = np.zeros_like(alpha)\n",
    "cv2.drawContours(contour_img, [big_contour], 0, 255, -1)\n",
    "\n",
    "# apply dilate to connect the white areas in the alpha channel\n",
    "kernel = cv2.getStructuringElement(cv2.MORPH_ELLIPSE, (40,40))\n",
    "dilate = cv2.morphologyEx(contour_img, cv2.MORPH_DILATE, kernel)"
   ]
  },
  {
   "cell_type": "code",
   "execution_count": null,
   "id": "e4703e99",
   "metadata": {},
   "outputs": [],
   "source": [
    "# show thresh and result    \n",
    "cv2.imshow(\"bgr\", bgr)\n",
    "cv2.imshow(\"alpha\", alpha)\n",
    "cv2.imshow(\"contour_img\", contour_img)\n",
    "cv2.imshow(\"dilate\", dilate)"
   ]
  }
 ],
 "metadata": {
  "kernelspec": {
   "display_name": "Python 3 (ipykernel)",
   "language": "python",
   "name": "python3"
  },
  "language_info": {
   "codemirror_mode": {
    "name": "ipython",
    "version": 3
   },
   "file_extension": ".py",
   "mimetype": "text/x-python",
   "name": "python",
   "nbconvert_exporter": "python",
   "pygments_lexer": "ipython3",
   "version": "3.9.13"
  }
 },
 "nbformat": 4,
 "nbformat_minor": 5
}
