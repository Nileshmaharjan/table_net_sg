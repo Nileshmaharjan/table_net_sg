{
 "cells": [
  {
   "cell_type": "code",
   "execution_count": 1,
   "id": "5e035091",
   "metadata": {},
   "outputs": [
    {
     "name": "stderr",
     "output_type": "stream",
     "text": [
      "C:\\Users\\user\\anaconda3\\envs\\tablenet\\lib\\site-packages\\tqdm\\auto.py:22: TqdmWarning: IProgress not found. Please update jupyter and ipywidgets. See https://ipywidgets.readthedocs.io/en/stable/user_install.html\n",
      "  from .autonotebook import tqdm as notebook_tqdm\n"
     ]
    }
   ],
   "source": [
    "import torch\n",
    "import cv2\n",
    "from PIL import Image\n",
    "import matplotlib.pyplot as plt\n",
    "import numpy as np\n",
    "import pandas as pd\n",
    "import config\n",
    "import os\n",
    "from utils import (\n",
    "    get_data_loaders,\n",
    "    load_checkpoint,\n",
    "    save_checkpoint,\n",
    "    display_metrics,\n",
    "    write_summary, \n",
    "    compute_metrics,\n",
    "    get_TableMasks,\n",
    "    fixMasks,\n",
    "    display,\n",
    "    display_predicted_and_fixed\n",
    "    \n",
    "    )\n",
    "from sklearn.metrics import precision_score, recall_score, accuracy_score, f1_score\n",
    "from model import TableNet\n",
    "from pytorch_model_summary import summary\n",
    "import tensorboard\n",
    "from sklearn.model_selection import train_test_split\n",
    "import albumentations as A \n",
    "from albumentations.pytorch import ToTensorV2\n",
    "from PIL import Image, ImageDraw"
   ]
  },
  {
   "cell_type": "code",
   "execution_count": 2,
   "id": "de2b4379",
   "metadata": {
    "scrolled": true
   },
   "outputs": [
    {
     "name": "stderr",
     "output_type": "stream",
     "text": [
      "C:\\Users\\user\\anaconda3\\envs\\tablenet\\lib\\site-packages\\torchvision\\models\\_utils.py:208: UserWarning: The parameter 'pretrained' is deprecated since 0.13 and will be removed in 0.15, please use 'weights' instead.\n",
      "  warnings.warn(\n",
      "C:\\Users\\user\\anaconda3\\envs\\tablenet\\lib\\site-packages\\torchvision\\models\\_utils.py:223: UserWarning: Arguments other than a weight enum or `None` for 'weights' are deprecated since 0.13 and will be removed in 0.15. The current behavior is equivalent to passing `weights=DenseNet121_Weights.IMAGENET1K_V1`. You can also use `weights=DenseNet121_Weights.DEFAULT` to get the most up-to-date weights.\n",
      "  warnings.warn(msg)\n"
     ]
    },
    {
     "name": "stdout",
     "output_type": "stream",
     "text": [
      "Model Architecture and Trainable Paramerters\n",
      "==================================================\n",
      "-------------------------------------------------------------------------------------------------------------\n",
      "      Layer (type)                                              Output Shape         Param #     Tr. Param #\n",
      "=============================================================================================================\n",
      "        DenseNet-1     [1, 256, 64, 64], [1, 512, 32, 32], [1, 1024, 32, 32]       6,951,808       6,951,808\n",
      "          Conv2d-2                                          [1, 256, 32, 32]         262,400         262,400\n",
      "            ReLU-3                                          [1, 256, 32, 32]               0               0\n",
      "         Dropout-4                                          [1, 256, 32, 32]               0               0\n",
      "          Conv2d-5                                          [1, 256, 32, 32]          65,792          65,792\n",
      "            ReLU-6                                          [1, 256, 32, 32]               0               0\n",
      "         Dropout-7                                          [1, 256, 32, 32]               0               0\n",
      "    TableDecoder-8                                        [1, 1, 1024, 1024]         885,377         885,377\n",
      "=============================================================================================================\n",
      "Total params: 8,165,377\n",
      "Trainable params: 8,165,377\n",
      "Non-trainable params: 0\n",
      "-------------------------------------------------------------------------------------------------------------\n"
     ]
    }
   ],
   "source": [
    "model = TableNet(encoder = 'densenet', use_pretrained_model = True, basemodel_requires_grad = True)\n",
    "\n",
    "print(\"Model Architecture and Trainable Paramerters\")\n",
    "print(\"=\"*50)\n",
    "print(summary(model, torch.zeros((1, 3, 1024, 1024)), show_input=False, show_hierarchical=False))"
   ]
  },
  {
   "cell_type": "code",
   "execution_count": 4,
   "id": "5b8cc493",
   "metadata": {},
   "outputs": [
    {
     "name": "stdout",
     "output_type": "stream",
     "text": [
      "Loading checkpoint...\n"
     ]
    }
   ],
   "source": [
    "model = TableNet(encoder = 'densenet', use_pretrained_model = True, basemodel_requires_grad = True)\n",
    "model = model.to(config.DEVICE)\n",
    "\n",
    "\n",
    "#load checkpoint\n",
    "_,_,_ = load_checkpoint(torch.load(\"week_38/densenet_config_batch_size_4_model_checkpoint.pth.tar\"), model)"
   ]
  },
  {
   "cell_type": "code",
   "execution_count": 6,
   "id": "ef08d48b",
   "metadata": {},
   "outputs": [],
   "source": [
    "processed_data = pd.read_csv(config.DATAPATH_TEST)\n",
    "_, test_data  = train_test_split(processed_data, test_size = 0.2, random_state = config.SEED)"
   ]
  },
  {
   "cell_type": "code",
   "execution_count": 7,
   "id": "4b478f48",
   "metadata": {},
   "outputs": [],
   "source": [
    "def createFixedMask(bboxes, dim):\n",
    "    image = Image.new(\"RGB\", dim)\n",
    "    mask = ImageDraw.Draw(image)\n",
    "    for each_list in bboxes:\n",
    "        mask.rectangle(each_list, fill = 255)\n",
    "    image_array = np.array(image)\n",
    "    image = Image.fromarray(image_array[:,:,0])\n",
    "    \n",
    "    return image"
   ]
  },
  {
   "cell_type": "code",
   "execution_count": 12,
   "id": "477632eb",
   "metadata": {
    "scrolled": false
   },
   "outputs": [
    {
     "name": "stdout",
     "output_type": "stream",
     "text": [
      "(1024, 1024, 1)\n"
     ]
    }
   ],
   "source": [
    "for i in range(1):\n",
    "    b = i + 1\n",
    "#     print(\"Test image\", test_data.iloc[a,0])\n",
    "#     print(\"Test Image :\", a)\n",
    "    a = './resized_dilated/vendor/Compressor1_1st(0).png'\n",
    "    test_img = np.array(Image.open(a))\n",
    "    test_table = np.array(Image.open(a))\n",
    "    table_out = get_TableMasks(test_img, model)\n",
    "    table_out = table_out * 255\n",
    "    print(table_out.shape)\n",
    "    \n",
    "#     backtorgb = cv2.cvtColor(table_out,cv2.COLOR_GRAY2RGB)\n",
    "#     stacked_predicted_mask = np.stack([table_out, table_out, table_out], axis = 2)\n",
    "#     print(stacked_predicted_mask)\n",
    "    \n",
    "    experiment_name =  str(b) + \"-predicted_mask.png\"\n",
    "\n",
    "    cv2.imwrite(experiment_name, table_out)\n",
    "#     cv2.imwrite('backtorgb.png', backtorgb)\n",
    "#     predicted_mask_img = cv2.imread('predicted_mask.png')\n",
    "#     print(predicted_mask_img)\n",
    "\n",
    "#     display(test_img, test_table, table_out,title = 'Original')\n",
    "\n",
    "\n",
    "    outputs = fixMasks(test_img, table_out)\n",
    "    dim = (1024, 1024)\n",
    "    fixed_mask = createFixedMask(outputs[1], dim)\n",
    "   \n",
    "    \n",
    "\n",
    "    \n",
    "    \n",
    "#     display_predicted_and_fixed(test_img, table_out, fixed_mask)\n",
    "\n",
    "\n",
    "\n",
    "# #     display(test_img, table_out, title = 'Test')\n"
   ]
  },
  {
   "cell_type": "code",
   "execution_count": 14,
   "id": "a0fb12d3",
   "metadata": {},
   "outputs": [
    {
     "data": {
      "text/plain": [
       "True"
      ]
     },
     "execution_count": 14,
     "metadata": {},
     "output_type": "execute_result"
    }
   ],
   "source": [
    "b = cv2.imread('mask.png')\n",
    "cv2.imwrite('masked.png', b)"
   ]
  },
  {
   "cell_type": "code",
   "execution_count": null,
   "id": "a9e275a8",
   "metadata": {},
   "outputs": [],
   "source": [
    "\n",
    "#     fixed_img = cv2.imread('fixed_mask.png',0)\n",
    "#     ret, bw_img = cv2.threshold(fixed_img,200,255,cv2.THRESH_BINARY)\n",
    "\n",
    "    \n",
    "#     original = 'orignal.png'\n",
    "#     filename = 'bitwise.png'\n",
    "    \n",
    "    \n",
    "#     print(test_img)\n",
    "#     print(test_img.shape)\n",
    "\n",
    "    \n",
    "#     print(bw_img)\n",
    "#     print(bw_img.shape)\n",
    "    \n",
    "#     bitwiseAnd = cv2.bitwise_and(bw_img, test_img)\n",
    "\n",
    "#     cv2.imwrite(filename, bitwiseAnd)\n",
    "#     cv2.imwrite(original, test_img)"
   ]
  }
 ],
 "metadata": {
  "kernelspec": {
   "display_name": "Python 3 (ipykernel)",
   "language": "python",
   "name": "python3"
  },
  "language_info": {
   "codemirror_mode": {
    "name": "ipython",
    "version": 3
   },
   "file_extension": ".py",
   "mimetype": "text/x-python",
   "name": "python",
   "nbconvert_exporter": "python",
   "pygments_lexer": "ipython3",
   "version": "3.9.13"
  }
 },
 "nbformat": 4,
 "nbformat_minor": 5
}
